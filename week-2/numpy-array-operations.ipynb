{
 "cells": [
  {
   "cell_type": "markdown",
   "metadata": {},
   "source": [
    "# 5 Essential NumPy functions for Linear Algebra\n",
    "\n",
    "\n",
    "### A glimpse into the powerful NumPy library.\n",
    "\n",
    "NumPy is a powerful Python library which supports large multidimensional arrays and provides a host of computational functions to operate on them. Here are 5 useful functions for Linear Algebra.\n",
    "\n",
    "- numpy.matmul\n",
    "- numpy.linalg.matrix_power\n",
    "- numpy.linalg.det\n",
    "- numpy.linalg.inv\n",
    "- numpy.linalg.solve\n",
    "\n",
    "The recommended way to run this notebook is to click the \"Run\" button at the top of this page, and select \"Run on Binder\". This will run the notebook on mybinder.org, a free online service for running Jupyter notebooks."
   ]
  },
  {
   "cell_type": "code",
   "execution_count": null,
   "metadata": {},
   "outputs": [],
   "source": [
    "!pip install jovian --upgrade -q"
   ]
  },
  {
   "cell_type": "code",
   "execution_count": null,
   "metadata": {},
   "outputs": [],
   "source": [
    "import jovian"
   ]
  },
  {
   "cell_type": "code",
   "execution_count": null,
   "metadata": {},
   "outputs": [],
   "source": [
    "jovian.commit(project='numpy-array-operations')"
   ]
  },
  {
   "cell_type": "markdown",
   "metadata": {},
   "source": [
    "Let's begin by importing Numpy and listing out the functions covered in this notebook."
   ]
  },
  {
   "cell_type": "code",
   "execution_count": null,
   "metadata": {},
   "outputs": [],
   "source": [
    "import numpy as np"
   ]
  },
  {
   "cell_type": "code",
   "execution_count": null,
   "metadata": {},
   "outputs": [],
   "source": [
    "# List of functions explained \n",
    "function1 = np.matmul\n",
    "function2 = np.linalg.matrix_power\n",
    "function3 = np.linalg.det\n",
    "function4 = np.linalg.inv\n",
    "function5 = np.linalg.solve"
   ]
  },
  {
   "cell_type": "markdown",
   "metadata": {},
   "source": [
    "## Function 1 - np.matmul\n",
    "\n",
    "Matrix product of two arrays of one or more dimensions. "
   ]
  },
  {
   "cell_type": "code",
   "execution_count": null,
   "metadata": {},
   "outputs": [],
   "source": [
    "# Example 1 - working \n",
    "arr1 = [[1, 2], \n",
    "        [3, 4.]]\n",
    "\n",
    "arr2 = [[5, 6, 7], \n",
    "        [8, 9, 10]]\n",
    "\n",
    "np.matmul(arr1, arr2)"
   ]
  },
  {
   "cell_type": "markdown",
   "metadata": {},
   "source": [
    "As seen above, the output is the matrix multiplication of the two input arrays. The operation is performed on floating point representations of the actual numbers."
   ]
  },
  {
   "cell_type": "code",
   "execution_count": null,
   "metadata": {},
   "outputs": [],
   "source": [
    "# Example 2 - working\n",
    "mat1 = np.array([[1, 3],\n",
    "              [3, 1]])\n",
    "mat2 = np.array([1, 2])\n",
    "\n",
    "mat1 @ mat2"
   ]
  },
  {
   "cell_type": "markdown",
   "metadata": {},
   "source": [
    "The matmul function implements the semantics of the @ operator."
   ]
  },
  {
   "cell_type": "code",
   "execution_count": null,
   "metadata": {},
   "outputs": [],
   "source": [
    "# Example 3 - breaking (to illustrate when it breaks)\n",
    "arr1 = [[1, 2], \n",
    "        [3, 4.]]\n",
    "\n",
    "arr2 = [[5, 6, 7], \n",
    "        [8, 9, 10],\n",
    "        [11, 12, 13]]\n",
    "\n",
    "np.matmul(arr1, arr2)"
   ]
  },
  {
   "cell_type": "markdown",
   "metadata": {},
   "source": [
    "In matrix multiplication, the no. of columns of multiplicand must always be equal to the no. of rows of the multiplier or it raises a value error. We must also take care not to use matmul to multiply with a scalar as it also raises a value error."
   ]
  },
  {
   "cell_type": "markdown",
   "metadata": {},
   "source": [
    "Matmul helps us compute complex matrix multiplications in a single step. It also helpfully raises an error when the multiplication is illegal which can be used to filter matrices."
   ]
  },
  {
   "cell_type": "code",
   "execution_count": null,
   "metadata": {},
   "outputs": [],
   "source": [
    "jovian.commit()"
   ]
  },
  {
   "cell_type": "markdown",
   "metadata": {},
   "source": [
    "## Function 2 - np.linalg.matrix_power\n",
    "\n",
    "Raises a square matrix to the power of any integer n. For the integer n>0, the power is computed by repeated matrix squarings and matrix multiplications. If n == 0, the identity matrix of the same shape as M is returned. If n < 0, the inverse is computed and then raised to the abs(n)."
   ]
  },
  {
   "cell_type": "code",
   "execution_count": null,
   "metadata": {},
   "outputs": [],
   "source": [
    "# Example 1 - working\n",
    "i = np.array([[8, 9], \n",
    "              [10, 20]])\n",
    "\n",
    "np.linalg.matrix_power(i, 9)"
   ]
  },
  {
   "cell_type": "markdown",
   "metadata": {},
   "source": [
    "As 3 is a positive number, the matrix array is simply squared once and multiplied once again by itself to raise it to the power of 3."
   ]
  },
  {
   "cell_type": "code",
   "execution_count": null,
   "metadata": {},
   "outputs": [],
   "source": [
    "# Example 2 - working\n",
    "i = np.array([[0, 1],\n",
    "              [-1, 0]])\n",
    "\n",
    "np.linalg.matrix_power(i, -3)"
   ]
  },
  {
   "cell_type": "markdown",
   "metadata": {},
   "source": [
    "As the power is a negative integer, the inverse of the matrix array is computed and raised to the absolute value of the power ie., 3. Again, this operation is performed on the floating point representations."
   ]
  },
  {
   "cell_type": "code",
   "execution_count": null,
   "metadata": {},
   "outputs": [],
   "source": [
    "# Example 3 - breaking (to illustrate when it breaks)\n",
    "i = np.array([[3, 12],\n",
    "              [2, 8]])\n",
    "\n",
    "np.linalg.matrix_power(i, -3)"
   ]
  },
  {
   "cell_type": "markdown",
   "metadata": {},
   "source": [
    "For a negative power the matrix will be inverted first. But this matrix is singular or cannot be inverted. Hence a linalg error is thrown. The error can be handled by inserting an if condition first to check that the determinant is not zero with np.linalg.det."
   ]
  },
  {
   "cell_type": "markdown",
   "metadata": {},
   "source": [
    "As we observed in the examples, linalg.matrix_power is another powerful function that can compute powers of a matrix in a jiffy."
   ]
  },
  {
   "cell_type": "code",
   "execution_count": null,
   "metadata": {},
   "outputs": [],
   "source": [
    "jovian.commit()"
   ]
  },
  {
   "cell_type": "markdown",
   "metadata": {},
   "source": [
    "## Function 3 - np.linalg.det\n",
    "\n",
    "It is used to compute the determinant of an array."
   ]
  },
  {
   "cell_type": "code",
   "execution_count": null,
   "metadata": {},
   "outputs": [],
   "source": [
    "# Example 1 - working\n",
    "arr = np.array([[1, 2], \n",
    "                [3, 4]])\n",
    "\n",
    "np.linalg.det(arr)"
   ]
  },
  {
   "cell_type": "markdown",
   "metadata": {},
   "source": [
    "The determinant is calculated by ad-bc for an array [[a, b],\n",
    "                                                     [c, d]]."
   ]
  },
  {
   "cell_type": "code",
   "execution_count": null,
   "metadata": {},
   "outputs": [],
   "source": [
    "# Example 2 - working\n",
    "a = np.array([ [[1, 2], [3, 4]],\n",
    "              [[1, 2], [2, 1]], \n",
    "              [[1, 3], [3, 1]] ])\n",
    "\n",
    "np.linalg.det(a)"
   ]
  },
  {
   "cell_type": "markdown",
   "metadata": {},
   "source": [
    "This function can calculate the determinant of a stack of matrices. "
   ]
  },
  {
   "cell_type": "code",
   "execution_count": null,
   "metadata": {},
   "outputs": [],
   "source": [
    "# Example 3 - breaking (to illustrate when it breaks)\n",
    "a = np.array([[2,1], \n",
    "              [4,2], \n",
    "              [5,1]])\n",
    "\n",
    "np.linalg.det(a)"
   ]
  },
  {
   "cell_type": "markdown",
   "metadata": {},
   "source": [
    "We will get a dimensions error if we don't take care that the matrix is a square matrix."
   ]
  },
  {
   "cell_type": "markdown",
   "metadata": {},
   "source": [
    "This function is very important in linear algebra to evaluate systems of linear equations and also has uses in integral calculus."
   ]
  },
  {
   "cell_type": "code",
   "execution_count": null,
   "metadata": {},
   "outputs": [],
   "source": [
    "jovian.commit()"
   ]
  },
  {
   "cell_type": "markdown",
   "metadata": {},
   "source": [
    "## Function 4 - np.linalg.inv\n",
    "\n",
    "Computes the multiplicative inverse of a matrix. "
   ]
  },
  {
   "cell_type": "code",
   "execution_count": null,
   "metadata": {},
   "outputs": [],
   "source": [
    "# Example 1 - working\n",
    "a = np.array([[1., 2.], \n",
    "              [3., 4.]])\n",
    "\n",
    "np.linalg.inv(a)"
   ]
  },
  {
   "cell_type": "markdown",
   "metadata": {},
   "source": [
    " The returned matrix satisfies dot(a, ainv) = dot(ainv, a) = eye(a.shape[0])."
   ]
  },
  {
   "cell_type": "code",
   "execution_count": null,
   "metadata": {},
   "outputs": [],
   "source": [
    "# Example 2 - working\n",
    "a = np.array([[[1., 2.], [3., 4.]], \n",
    "              [[1, 3], [3, 5]]])\n",
    "\n",
    "np.linalg.inv(a)"
   ]
  },
  {
   "cell_type": "markdown",
   "metadata": {},
   "source": [
    "The inverses of multiple matrices can be computed at once."
   ]
  },
  {
   "cell_type": "code",
   "execution_count": null,
   "metadata": {},
   "outputs": [],
   "source": [
    "# Example 3 - breaking (to illustrate when it breaks)\n",
    "a = np.eye(4, 5)\n",
    "\n",
    "np.linalg.inv(a)"
   ]
  },
  {
   "cell_type": "markdown",
   "metadata": {},
   "source": [
    "Here a is not a square matrix and hence its inverse cannot be computed. Any non-square matrix has to be first converted into a square matrix."
   ]
  },
  {
   "cell_type": "markdown",
   "metadata": {},
   "source": [
    "This function is quite useful for solving linear systems of equations.It is also used in 3D computer graphics."
   ]
  },
  {
   "cell_type": "code",
   "execution_count": null,
   "metadata": {},
   "outputs": [],
   "source": [
    "jovian.commit()"
   ]
  },
  {
   "cell_type": "markdown",
   "metadata": {},
   "source": [
    "## Function 5 - np.linalg.solve\n",
    "\n",
    "Computes the value of x in a linear matrix equation ax = b or a system of linear scalar equations."
   ]
  },
  {
   "cell_type": "code",
   "execution_count": null,
   "metadata": {},
   "outputs": [],
   "source": [
    "# Example 1 - working\n",
    "# To solve the system of equations 3 * x0 + x1 = 9 and x0 + 2 * x1 = 8:\n",
    "\n",
    "a = np.array([[3, 1], \n",
    "              [1, 2]])\n",
    "\n",
    "b = np.array([9, 8])\n",
    "\n",
    "x = np.linalg.solve(a, b)\n",
    "x"
   ]
  },
  {
   "cell_type": "markdown",
   "metadata": {},
   "source": [
    "This operation is carried out on floating point representations of the numbers."
   ]
  },
  {
   "cell_type": "code",
   "execution_count": null,
   "metadata": {},
   "outputs": [],
   "source": [
    "# Example 2 - working\n",
    "\n",
    "a = np.array([[2, 1, 1], \n",
    "              [1, 3, 2], \n",
    "              [1, 0, 0]]) \n",
    "b = np.array([4, 5, 6]) \n",
    "\n",
    "np.linalg.solve(a, b)"
   ]
  },
  {
   "cell_type": "markdown",
   "metadata": {},
   "source": [
    "As the size of array a increases, it becomes computationally expensive to solve the equations by calculating inverse. Therefore factorisation methods such as LU decomposition are used."
   ]
  },
  {
   "cell_type": "code",
   "execution_count": null,
   "metadata": {},
   "outputs": [],
   "source": [
    "# Example 3 - breaking (to illustrate when it breaks)\n",
    "# To solve the system of equations x − 2y = −1, 3x + 5y = 8, and 4x + 3y = 7:\n",
    "a = np.array([[1, -2],\n",
    "              [3, 5],\n",
    "              [4, 3]])\n",
    "              \n",
    "b = np.array([-1, 8, 7])\n",
    "\n",
    "np.linalg.solve(a, b)"
   ]
  },
  {
   "cell_type": "markdown",
   "metadata": {},
   "source": [
    "The matrix must be square and of full-rank, i.e., all rows (or, equivalently, columns) must be linearly independent; if either is not true, use np.linalg.lstsq for the least-squares best “solution” of the system/equation."
   ]
  },
  {
   "cell_type": "markdown",
   "metadata": {},
   "source": [
    "This function makes solving huge systems of linear equations, with many variables, a child's play."
   ]
  },
  {
   "cell_type": "code",
   "execution_count": null,
   "metadata": {},
   "outputs": [],
   "source": [
    "jovian.commit()"
   ]
  },
  {
   "cell_type": "markdown",
   "metadata": {},
   "source": [
    "## Conclusion\n",
    "\n",
    "The functions\n",
    "- numpy.matmul\n",
    "- numpy.linalg.matrix_power\n",
    "- numpy.linalg.det\n",
    "- numpy.linalg.inv\n",
    "- numpy.linalg.solv\n",
    "\n",
    "gave just a tiny glimpse into the NumPy library and was focused on Linear Algebra. You can find many more super useful and powerful routines for array creation, array manipulation, polynomials, statistics etc. in the official NumPy documentation https://numpy.org/doc/stable/reference/index.html."
   ]
  },
  {
   "cell_type": "markdown",
   "metadata": {},
   "source": [
    "## Reference Links\n",
    "Links to references and other interesting articles about Numpy arrays:\n",
    "* Numpy official tutorial : https://numpy.org/doc/stable/user/quickstart.html\n",
    "* Numpy official documentation : https://numpy.org/doc/stable/\n",
    "* Linear Algebra with NumPy : https://towardsdatascience.com/introduction-to-linear-algebra-with-numpy-79adeb7bc060"
   ]
  },
  {
   "cell_type": "code",
   "execution_count": null,
   "metadata": {},
   "outputs": [],
   "source": [
    "jovian.commit()"
   ]
  },
  {
   "cell_type": "code",
   "execution_count": null,
   "metadata": {},
   "outputs": [],
   "source": []
  }
 ],
 "metadata": {
  "kernelspec": {
   "display_name": "Python 3",
   "language": "python",
   "name": "python3"
  },
  "language_info": {
   "codemirror_mode": {
    "name": "ipython",
    "version": 3
   },
   "file_extension": ".py",
   "mimetype": "text/x-python",
   "name": "python",
   "nbconvert_exporter": "python",
   "pygments_lexer": "ipython3",
   "version": "3.8.5"
  }
 },
 "nbformat": 4,
 "nbformat_minor": 4
}
